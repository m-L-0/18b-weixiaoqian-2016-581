{
 "cells": [
  {
   "cell_type": "code",
   "execution_count": 1,
   "metadata": {},
   "outputs": [
    {
     "name": "stderr",
     "output_type": "stream",
     "text": [
      "D:\\AN\\lib\\site-packages\\h5py\\__init__.py:36: FutureWarning: Conversion of the second argument of issubdtype from `float` to `np.floating` is deprecated. In future, it will be treated as `np.float64 == np.dtype(float).type`.\n",
      "  from ._conv import register_converters as _register_converters\n"
     ]
    }
   ],
   "source": [
    "import numpy as np\n",
    "import tensorflow as tf\n",
    "from sklearn.datasets import load_iris\n",
    "from sklearn import model_selection"
   ]
  },
  {
   "cell_type": "code",
   "execution_count": 2,
   "metadata": {},
   "outputs": [
    {
     "name": "stdout",
     "output_type": "stream",
     "text": [
      "--------------------Ytest---------------------\n",
      "[2 0 2 2 2 1 1 0 0 2 0 0 0 1 2 0 1 0 0 2 0 2 1 0 0 0 0 0 0 2]\n"
     ]
    }
   ],
   "source": [
    "# 加载数据\n",
    "iris = load_iris()\n",
    "#X= iris.data[:,:2],只取其中前两种特征，使用两个模糊数据集,结果正确率为83.333%\n",
    "X= iris.data\n",
    "y = iris.target\n",
    "\n",
    "#将鸢尾花数据集按照8 : 2的比例划分成训练集与验证集\n",
    "X_train,X_test,y_train,y_test = model_selection.train_test_split(X,y,test_size=0.2,random_state=4)\n",
    "print(\"--------------------Ytest---------------------\")\n",
    "print(y_test)"
   ]
  },
  {
   "cell_type": "code",
   "execution_count": 3,
   "metadata": {},
   "outputs": [
    {
     "name": "stdout",
     "output_type": "stream",
     "text": [
      "<class 'numpy.matrixlib.defmatrix.matrix'>\n"
     ]
    }
   ],
   "source": [
    "#训练模型\n",
    "ne_K = 3\n",
    "#占位符\n",
    "xxtrain = tf.placeholder(dtype = tf.float32,shape = None)\n",
    "xxtest = tf.placeholder(dtype = tf.float32,shape = None)\n",
    "\n",
    "#转化为矩阵\n",
    "xtrain = np.mat(X_train)\n",
    "xtest = np.mat(X_test)\n",
    "print(type(xtrain))\n"
   ]
  },
  {
   "cell_type": "code",
   "execution_count": 4,
   "metadata": {},
   "outputs": [
    {
     "name": "stdout",
     "output_type": "stream",
     "text": [
      "Test 0 Pred: 2 True: 2\n",
      "Test 1 Pred: 0 True: 0\n",
      "Test 2 Pred: 2 True: 2\n",
      "Test 3 Pred: 2 True: 2\n",
      "Test 4 Pred: 2 True: 2\n",
      "Test 5 Pred: 1 True: 1\n",
      "Test 6 Pred: 2 True: 1\n",
      "Test 7 Pred: 0 True: 0\n",
      "Test 8 Pred: 0 True: 0\n",
      "Test 9 Pred: 1 True: 2\n",
      "Test 10 Pred: 0 True: 0\n",
      "Test 11 Pred: 0 True: 0\n",
      "Test 12 Pred: 0 True: 0\n",
      "Test 13 Pred: 1 True: 1\n",
      "Test 14 Pred: 2 True: 2\n",
      "Test 15 Pred: 0 True: 0\n",
      "Test 16 Pred: 1 True: 1\n",
      "Test 17 Pred: 0 True: 0\n",
      "Test 18 Pred: 0 True: 0\n",
      "Test 19 Pred: 2 True: 2\n",
      "Test 20 Pred: 0 True: 0\n",
      "Test 21 Pred: 2 True: 2\n",
      "Test 22 Pred: 1 True: 1\n",
      "Test 23 Pred: 0 True: 0\n",
      "Test 24 Pred: 0 True: 0\n",
      "Test 25 Pred: 0 True: 0\n",
      "Test 26 Pred: 0 True: 0\n",
      "Test 27 Pred: 0 True: 0\n",
      "Test 28 Pred: 0 True: 0\n",
      "Test 29 Pred: 2 True: 2\n",
      "acc: 0.9333333333333333\n"
     ]
    }
   ],
   "source": [
    "#step1 计算距离 ： 求差----差值平方----平方后的差值累加-----求开方\n",
    "distance = tf.reduce_sum(tf.abs(tf.add(xxtrain, tf.negative(xxtest))), reduction_indices=1)\n",
    "\n",
    "\n",
    "#step2 对距离进行排序，得到最小距离的索引\n",
    "pred = tf.argmin(distance,0)\n",
    "accuracy = 0.   #分类精确度\n",
    "# 初始化变量\n",
    "init = tf.global_variables_initializer()\n",
    "#运行会话\n",
    "with tf.Session() as sess:\n",
    "    sess.run(init)\n",
    "\n",
    "    for i in range(len(xtest)):\n",
    "        knn_index = sess.run(pred,feed_dict = {xxtrain: xtrain,xxtest: xtest[i,:]})\n",
    "        # knn_index,获取当前样本的最近邻索引\n",
    "        Pr = y_train[knn_index]\n",
    "        Tr = y_test[i]\n",
    "        print(\"Test\",i,\"Pred:\",Pr,\"True:\",Tr)\n",
    "        if Pr == Tr:\n",
    "            accuracy += 1\n",
    "    accuracy /= len(xtest)\n",
    "    print(\"acc:\",accuracy)"
   ]
  }
 ],
 "metadata": {
  "kernelspec": {
   "display_name": "Python 3",
   "language": "python",
   "name": "python3"
  },
  "language_info": {
   "codemirror_mode": {
    "name": "ipython",
    "version": 3
   },
   "file_extension": ".py",
   "mimetype": "text/x-python",
   "name": "python",
   "nbconvert_exporter": "python",
   "pygments_lexer": "ipython3",
   "version": "3.6.5"
  }
 },
 "nbformat": 4,
 "nbformat_minor": 2
}

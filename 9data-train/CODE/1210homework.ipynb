{
 "cells": [
  {
   "cell_type": "markdown",
   "metadata": {},
   "source": [
    "9个类别数据，每个样本由200个波段组成(即200个光谱特征) \n",
    "每个数据文件对应一个类别，光谱之间可能存在相关性"
   ]
  },
  {
   "cell_type": "code",
   "execution_count": 1,
   "metadata": {},
   "outputs": [],
   "source": [
    "#导入必要的算法包\n",
    "import scipy.io as sio\n",
    "import matplotlib.pyplot as plt\n",
    "import pandas as pd\n",
    "import numpy as np\n",
    "from sklearn.model_selection import train_test_split\n",
    "#2,3,5,6,8,10,11,12,14"
   ]
  },
  {
   "cell_type": "code",
   "execution_count": 2,
   "metadata": {},
   "outputs": [],
   "source": [
    "#'''加载数据'''\n",
    "str0 = 'D://大三//Training-2018b-2016//18b-weixiaoqian-2016-581//9data-train//'\n",
    "str1 = 'data'\n",
    "str2 = '_train.mat'\n",
    "for i in [2,3,5,6,8,10,11,12,14]:\n",
    "    name = str0 + str1 + str(i) + str2\n",
    "#    print('data',i)\n",
    "    Data = sio.loadmat(name)\n",
    "    col = str1 + str(i) + '_train'\n",
    "    x = Data[col]\n",
    "    #print('shape:',x.shape)\n",
    "    #将数据导出为csv格式并保存\n",
    "    dfdata = pd.DataFrame(x)\n",
    "    datapath ='D://大三//Training-2018b-2016//18b-weixiaoqian-2016-581//9data-train//x//' + str(i) +'.csv'\n",
    "    dfdata.to_csv(datapath,index = False)\n",
    "    y = [i]* int(x.shape[0])\n",
    "    Ydatapath ='D://大三//Training-2018b-2016//18b-weixiaoqian-2016-581//9data-train//y//' + str(i) +'.csv'\n",
    "    dfY = pd.DataFrame(y)\n",
    "    dfY.to_csv(Ydatapath,index = False)"
   ]
  },
  {
   "cell_type": "code",
   "execution_count": 4,
   "metadata": {},
   "outputs": [],
   "source": [
    "#'''数组读取'''\n",
    "data2 = pd.read_csv('D://大三//Training-2018b-2016//18b-weixiaoqian-2016-581//9data-train//x//2.csv',engine='python')"
   ]
  },
  {
   "cell_type": "code",
   "execution_count": 6,
   "metadata": {},
   "outputs": [],
   "source": [
    "data3 = pd.read_csv('D://大三//Training-2018b-2016//18b-weixiaoqian-2016-581//9data-train///x//3.csv',engine='python')\n",
    "data5 = pd.read_csv('D://大三//Training-2018b-2016//18b-weixiaoqian-2016-581//9data-train//x//5.csv',engine='python')\n",
    "data6 = pd.read_csv('D://大三//Training-2018b-2016//18b-weixiaoqian-2016-581//9data-train//x//6.csv',engine='python')\n",
    "data8 = pd.read_csv('D://大三//Training-2018b-2016//18b-weixiaoqian-2016-581//9data-train//x//8.csv',engine='python')\n",
    "data10 = pd.read_csv('D://大三//Training-2018b-2016//18b-weixiaoqian-2016-581//9data-train///x//10.csv',engine='python')\n",
    "data11 = pd.read_csv('D://大三//Training-2018b-2016//18b-weixiaoqian-2016-581//9data-train//x//11.csv',engine='python')\n",
    "data12 = pd.read_csv('D://大三//Training-2018b-2016//18b-weixiaoqian-2016-581//9data-train//x//12.csv',engine='python')\n",
    "data14 = pd.read_csv('D://大三//Training-2018b-2016//18b-weixiaoqian-2016-581//9data-train//x//14.csv',engine='python')\n",
    "\n",
    "label2 = pd.read_csv('D://大三//Training-2018b-2016//18b-weixiaoqian-2016-581//9data-train//y//2.csv',engine='python')\n",
    "label3 = pd.read_csv('D://大三//Training-2018b-2016//18b-weixiaoqian-2016-581//9data-train//y//3.csv',engine='python')\n",
    "label5 = pd.read_csv('D://大三//Training-2018b-2016//18b-weixiaoqian-2016-581//9data-train//y//5.csv',engine='python')\n",
    "label6 = pd.read_csv('D://大三//Training-2018b-2016//18b-weixiaoqian-2016-581//9data-train//y//6.csv',engine='python')\n",
    "label8 = pd.read_csv('D://大三//Training-2018b-2016//18b-weixiaoqian-2016-581//9data-train//y//8.csv',engine='python')\n",
    "label10 = pd.read_csv('D://大三//Training-2018b-2016//18b-weixiaoqian-2016-581//9data-train//y//10.csv',engine='python')\n",
    "label11 = pd.read_csv('D://大三//Training-2018b-2016//18b-weixiaoqian-2016-581//9data-train//y//11.csv',engine='python')\n",
    "label12 = pd.read_csv('D://大三//Training-2018b-2016//18b-weixiaoqian-2016-581//9data-train//y//12.csv',engine='python')\n",
    "label14 = pd.read_csv('D://大三//Training-2018b-2016//18b-weixiaoqian-2016-581//9data-train//y//14.csv',engine='python')\n"
   ]
  },
  {
   "cell_type": "code",
   "execution_count": 9,
   "metadata": {},
   "outputs": [],
   "source": [
    "#'''测试集'''\n",
    "TestDataflie = 'D://大三//Training-2018b-2016//18b-weixiaoqian-2016-581//9data-train//data_test_final.mat'\n",
    "TestData = sio.loadmat(TestDataflie)\n",
    "testdata = pd.DataFrame(TestData['data_test_final'])\n",
    "testdata.to_csv('D://大三//Training-2018b-2016//18b-weixiaoqian-2016-581//9data-train//xtest.csv',index = False)\n",
    "\n",
    "xtest = pd.read_csv('D://大三//Training-2018b-2016//18b-weixiaoqian-2016-581//9data-train//xtest.csv',engine='python')\n"
   ]
  },
  {
   "cell_type": "code",
   "execution_count": 11,
   "metadata": {},
   "outputs": [
    {
     "name": "stdout",
     "output_type": "stream",
     "text": [
      "(6924, 200)\n",
      "[[ 2]\n",
      " [ 2]\n",
      " [ 2]\n",
      " ...\n",
      " [14]\n",
      " [14]\n",
      " [14]]\n"
     ]
    }
   ],
   "source": [
    "'''数组合并'''\n",
    "\n",
    "xx = np.vstack((data2,data3,data5,data6,data8,data10,data11,data12,data14))\n",
    "print(xx.shape)     #(6924, 200)\n",
    "yy = np.vstack((label2,label3,label5,label6,label8,label10,label11,label12,label14))\n",
    "print(yy)"
   ]
  },
  {
   "cell_type": "code",
   "execution_count": 12,
   "metadata": {},
   "outputs": [],
   "source": [
    "#随机划分数据集\n",
    "X_train,X_test,y_train,y_test = train_test_split(xx,yy,test_size = 0.2,random_state = 0)\n"
   ]
  },
  {
   "cell_type": "code",
   "execution_count": 13,
   "metadata": {},
   "outputs": [
    {
     "name": "stderr",
     "output_type": "stream",
     "text": [
      "D:\\AN\\lib\\site-packages\\ipykernel_launcher.py:5: DataConversionWarning: A column-vector y was passed when a 1d array was expected. Please change the shape of y to (n_samples, ), for example using ravel().\n",
      "  \"\"\"\n"
     ]
    },
    {
     "name": "stdout",
     "output_type": "stream",
     "text": [
      "0.8194945848375451\n"
     ]
    }
   ],
   "source": [
    "#'''KNN分类及预测结果的可视化'''\n",
    "from sklearn import neighbors\n",
    "\n",
    "knn = neighbors.KNeighborsClassifier()\n",
    "knn.fit(X_train,y_train)\n",
    "y_pred = knn.predict(X_test)\n",
    "accuary = 0\n",
    "for i in range(len(y_pred)):\n",
    "    if y_pred[i] == y_test[i]:\n",
    "        accuary +=1\n",
    "acc = accuary/len(y_test)\n",
    "print(acc)\n",
    "y_test = pd.DataFrame(y_test)\n",
    "y_test.to_csv('D://大三//Training-2018b-2016//18b-weixiaoqian-2016-581//9data-train//y_pred.csv')\n"
   ]
  },
  {
   "cell_type": "code",
   "execution_count": null,
   "metadata": {},
   "outputs": [],
   "source": []
  }
 ],
 "metadata": {
  "kernelspec": {
   "display_name": "Python 3",
   "language": "python",
   "name": "python3"
  },
  "language_info": {
   "codemirror_mode": {
    "name": "ipython",
    "version": 3
   },
   "file_extension": ".py",
   "mimetype": "text/x-python",
   "name": "python",
   "nbconvert_exporter": "python",
   "pygments_lexer": "ipython3",
   "version": "3.6.5"
  }
 },
 "nbformat": 4,
 "nbformat_minor": 2
}
